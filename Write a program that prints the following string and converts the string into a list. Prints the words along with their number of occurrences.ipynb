{
 "cells": [
  {
   "cell_type": "code",
   "execution_count": 27,
   "id": "de89e97b",
   "metadata": {},
   "outputs": [],
   "source": [
    "string=\"\"\" I remember as a child,\n",
    "and as a young budding naturalist,\n",
    "spending all my time observing and testing the world around me—moving pieces,\n",
    "altering the flow of things, and documenting ways the world responded to me.\n",
    "Now, as an adult and a professional naturalist,\n",
    "I’ve approached language in the same way,\n",
    "not from an academic point of view but\n",
    "as a curious child still building little mud dams in creeks and chasing after frogs.\n",
    "So this book is an odd thing:\n",
    "it is a naturalist’s walk through the language-making landscape of the English language,\n",
    "and following in the naturalist’s tradition it combines observation,\n",
    "experimentation, speculation, and documentation—activities we don’t normally associate with language.\"\"\""
   ]
  },
  {
   "cell_type": "code",
   "execution_count": 28,
   "id": "e78ad8e5",
   "metadata": {},
   "outputs": [],
   "source": [
    "def words_count(string):\n",
    "    counts=dict()\n",
    "    words=string.split( )\n",
    "    for word in words:\n",
    "        if word in counts:\n",
    "            counts[word]+=1\n",
    "        else:\n",
    "            counts[word]=1\n",
    "    return counts"
   ]
  },
  {
   "cell_type": "code",
   "execution_count": 29,
   "id": "be843cba",
   "metadata": {},
   "outputs": [
    {
     "data": {
      "text/plain": [
       "{'I': 1,\n",
       " 'remember': 1,\n",
       " 'as': 4,\n",
       " 'a': 5,\n",
       " 'child,': 1,\n",
       " 'and': 7,\n",
       " 'young': 1,\n",
       " 'budding': 1,\n",
       " 'naturalist,': 2,\n",
       " 'spending': 1,\n",
       " 'all': 1,\n",
       " 'my': 1,\n",
       " 'time': 1,\n",
       " 'observing': 1,\n",
       " 'testing': 1,\n",
       " 'the': 7,\n",
       " 'world': 2,\n",
       " 'around': 1,\n",
       " 'me—moving': 1,\n",
       " 'pieces,': 1,\n",
       " 'altering': 1,\n",
       " 'flow': 1,\n",
       " 'of': 3,\n",
       " 'things,': 1,\n",
       " 'documenting': 1,\n",
       " 'ways': 1,\n",
       " 'responded': 1,\n",
       " 'to': 1,\n",
       " 'me.': 1,\n",
       " 'Now,': 1,\n",
       " 'an': 3,\n",
       " 'adult': 1,\n",
       " 'professional': 1,\n",
       " 'I’ve': 1,\n",
       " 'approached': 1,\n",
       " 'language': 1,\n",
       " 'in': 3,\n",
       " 'same': 1,\n",
       " 'way,': 1,\n",
       " 'not': 1,\n",
       " 'from': 1,\n",
       " 'academic': 1,\n",
       " 'point': 1,\n",
       " 'view': 1,\n",
       " 'but': 1,\n",
       " 'curious': 1,\n",
       " 'child': 1,\n",
       " 'still': 1,\n",
       " 'building': 1,\n",
       " 'little': 1,\n",
       " 'mud': 1,\n",
       " 'dams': 1,\n",
       " 'creeks': 1,\n",
       " 'chasing': 1,\n",
       " 'after': 1,\n",
       " 'frogs.': 1,\n",
       " 'So': 1,\n",
       " 'this': 1,\n",
       " 'book': 1,\n",
       " 'is': 2,\n",
       " 'odd': 1,\n",
       " 'thing:': 1,\n",
       " 'it': 2,\n",
       " 'naturalist’s': 2,\n",
       " 'walk': 1,\n",
       " 'through': 1,\n",
       " 'language-making': 1,\n",
       " 'landscape': 1,\n",
       " 'English': 1,\n",
       " 'language,': 1,\n",
       " 'following': 1,\n",
       " 'tradition': 1,\n",
       " 'combines': 1,\n",
       " 'observation,': 1,\n",
       " 'experimentation,': 1,\n",
       " 'speculation,': 1,\n",
       " 'documentation—activities': 1,\n",
       " 'we': 1,\n",
       " 'don’t': 1,\n",
       " 'normally': 1,\n",
       " 'associate': 1,\n",
       " 'with': 1,\n",
       " 'language.': 1}"
      ]
     },
     "execution_count": 29,
     "metadata": {},
     "output_type": "execute_result"
    }
   ],
   "source": [
    "words_count(words)"
   ]
  },
  {
   "cell_type": "code",
   "execution_count": null,
   "id": "0adc2baf",
   "metadata": {},
   "outputs": [],
   "source": []
  }
 ],
 "metadata": {
  "kernelspec": {
   "display_name": "Python 3 (ipykernel)",
   "language": "python",
   "name": "python3"
  },
  "language_info": {
   "codemirror_mode": {
    "name": "ipython",
    "version": 3
   },
   "file_extension": ".py",
   "mimetype": "text/x-python",
   "name": "python",
   "nbconvert_exporter": "python",
   "pygments_lexer": "ipython3",
   "version": "3.9.17"
  }
 },
 "nbformat": 4,
 "nbformat_minor": 5
}
